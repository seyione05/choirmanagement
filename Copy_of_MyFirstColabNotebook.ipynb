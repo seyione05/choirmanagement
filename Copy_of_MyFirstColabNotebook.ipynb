{
  "nbformat": 4,
  "nbformat_minor": 0,
  "metadata": {
    "colab": {
      "name": "Copy of MyFirstColabNotebook.ipynb",
      "provenance": [],
      "authorship_tag": "ABX9TyPvpdVJbsYInkVp/k1PzU7d",
      "include_colab_link": true
    },
    "kernelspec": {
      "name": "python3",
      "display_name": "Python 3"
    }
  },
  "cells": [
    {
      "cell_type": "markdown",
      "metadata": {
        "id": "view-in-github",
        "colab_type": "text"
      },
      "source": [
        "<a href=\"https://colab.research.google.com/github/seyione05/choirmanagement/blob/master/Copy_of_MyFirstColabNotebook.ipynb\" target=\"_parent\"><img src=\"https://colab.research.google.com/assets/colab-badge.svg\" alt=\"Open In Colab\"/></a>"
      ]
    },
    {
      "cell_type": "code",
      "metadata": {
        "id": "6AhkK95YtNoD",
        "colab_type": "code",
        "colab": {
          "base_uri": "https://localhost:8080/",
          "height": 34
        },
        "outputId": "17a0e6b4-ae45-4dc6-e5e1-56aca0c24f21"
      },
      "source": [
        "import time\n",
        "print(time.ctime())"
      ],
      "execution_count": null,
      "outputs": [
        {
          "output_type": "stream",
          "text": [
            "Fri Jul  3 04:24:59 2020\n"
          ],
          "name": "stdout"
        }
      ]
    },
    {
      "cell_type": "code",
      "metadata": {
        "id": "KLlNzrPi6WQZ",
        "colab_type": "code",
        "colab": {
          "base_uri": "https://localhost:8080/",
          "height": 34
        },
        "outputId": "8881aff9-5deb-4de0-c6b9-3b5286eb3eac"
      },
      "source": [
        "time.sleep(5)\n",
        "print(time.ctime())"
      ],
      "execution_count": null,
      "outputs": [
        {
          "output_type": "stream",
          "text": [
            "Fri Jul  3 04:25:04 2020\n"
          ],
          "name": "stdout"
        }
      ]
    },
    {
      "cell_type": "markdown",
      "metadata": {
        "id": "6l6uzFmj75X3",
        "colab_type": "text"
      },
      "source": [
        "This is **Bold**\n",
        "This is *italic*\n",
        "This is ~strikethrough~"
      ]
    },
    {
      "cell_type": "markdown",
      "metadata": {
        "id": "O4vlR-E3tPoa",
        "colab_type": "text"
      },
      "source": [
        ""
      ]
    },
    {
      "cell_type": "markdown",
      "metadata": {
        "id": "V7DZkj4f8PA8",
        "colab_type": "text"
      },
      "source": [
        "$\\sqrt{3x-1}+(1+x)^2$\n"
      ]
    },
    {
      "cell_type": "markdown",
      "metadata": {
        "id": "V8AcFmZk84TT",
        "colab_type": "text"
      },
      "source": [
        "$e^x =\\sum_{i = 0}^\\infty \\frac{1}{i!}x^i$\n"
      ]
    },
    {
      "cell_type": "markdown",
      "metadata": {
        "id": "_fqfB8Pd9wm6",
        "colab_type": "text"
      },
      "source": [
        "Constraints are\n",
        "- $3x_1 +6x_2 +x_3 =<28$\n",
        "- $7x_1 + 3x_2 +2x_3 =<37$\n",
        "- $4x_1 +5x_2 +2x_3 =<19$\n",
        "- $x_1,x_2,x_3 >=0$\n",
        "\n",
        "The trial vector is calculated as follows:\n",
        "- $u_i(t) =x_i(t) + \\beta(\\hat{x}(t) - x_i(t)) + \\beta \\sum_{k = 1}^{n_v}(x_{i1,k}(t) - x_{i2,k}(t))$\n",
        "$f(x_1,x_2) = 20 + e - 20exp(-0.2 \\sqrt {\\frac {1}{n} (x_1^2 +x_2^2)}) - exp (\\frac {1}{n}(cos(2\\pi x_1) + cos(2\\pi x_2))$\n",
        "\n",
        "$x ∈ [-5, 5]$\n",
        ">$A_{m,n} = \n",
        "    \\begin{pmatrix} \n",
        "    a_{1,1} > a_{1,2} > \\cdots > a_{1,n} \\\\\n",
        "    a_{2,1} > a_{2,2} > \\cdots > a_{2,n} \\\\\n",
        "    \\vdots > \\vdots > \\ddots > \\vdots \\\\\n",
        "    a_{m,1} > a_{m,2} > \\cdots > a_{m,n}\n",
        "    \\end{pmatrix}$\n"
      ]
    },
    {
      "cell_type": "code",
      "metadata": {
        "id": "fCs4IX-z-o_Z",
        "colab_type": "code",
        "colab": {}
      },
      "source": [
        ""
      ],
      "execution_count": null,
      "outputs": []
    }
  ]
}